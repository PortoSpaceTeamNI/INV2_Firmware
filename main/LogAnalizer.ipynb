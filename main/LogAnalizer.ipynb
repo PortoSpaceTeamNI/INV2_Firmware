{
 "cells": [
  {
   "cell_type": "code",
   "execution_count": 15,
   "metadata": {},
   "outputs": [],
   "source": [
    "import glob\n",
    "import os\n",
    "import sys\n",
    "from matplotlib import pyplot as plt\n"
   ]
  },
  {
   "cell_type": "code",
   "execution_count": 2,
   "metadata": {},
   "outputs": [],
   "source": [
    "class rocket_sensor_data_log:\n",
    "    def __init__(self, time, t_t1, t_t2, c_t1, c_t2, c_t3, t_p1, t_p2, t_p, t_l, t1):\n",
    "        self.time = time\n",
    "\n",
    "        self.t_t1 = t_t1\n",
    "        self.t_t2 = t_t2\n",
    "\n",
    "        self.c_t1 = c_t1\n",
    "        self.c_t2 = c_t2\n",
    "        self.c_t3 = c_t3\n",
    "\n",
    "        self.t_p1 = t_p1\n",
    "        self.t_p2 = t_p2\n",
    "\n",
    "        self.t_p = t_p\n",
    "\n",
    "        self.t_l = t_l\n",
    "\n",
    "        self.t1 = t1\n",
    "\n",
    "sensor_data_arr = []"
   ]
  },
  {
   "cell_type": "code",
   "execution_count": 3,
   "metadata": {},
   "outputs": [],
   "source": [
    "class msg_sent_log:\n",
    "    def __init__(self, time, cmd, id, size, data):\n",
    "        self.time = time\n",
    "        self.cmd = cmd\n",
    "        self.id = id\n",
    "        self.size = size\n",
    "        \n",
    "        self.data = []\n",
    "        for i in data: self.data.append(i)\n",
    "\n",
    "msg_sent_arr = []"
   ]
  },
  {
   "cell_type": "code",
   "execution_count": 4,
   "metadata": {},
   "outputs": [],
   "source": [
    "class state_change_log:\n",
    "    def __init__(self, time, state):\n",
    "        self.time = time\n",
    "        self.state = state\n",
    "\n",
    "state_change_arr = []"
   ]
  },
  {
   "cell_type": "code",
   "execution_count": 5,
   "metadata": {},
   "outputs": [],
   "source": [
    "SENSOR_READING = 0\n",
    "MSG_RECEIVED = 1\n",
    "MSG_SENT = 2\n",
    "SYSTEM_ERROR = 3\n",
    "STATE_CHANGE = 4\n",
    "EVENT_REACTION = 5"
   ]
  },
  {
   "cell_type": "code",
   "execution_count": 24,
   "metadata": {},
   "outputs": [],
   "source": [
    "buff = []\n",
    "list_of_files = glob.glob('logs/*.bin') # * means all if need specific format then *.csv\n",
    "file = max(list_of_files, key=os.path.getctime) # get the latest file\n",
    "#file = 'log.bin' # get specific file\n",
    "with open(file, 'rb') as f:\n",
    "    buff.append(f.read())\n",
    "buff = buff[0]\n",
    "\n",
    "#print(buff)\n",
    "#for x in buff: print(hex(x))"
   ]
  },
  {
   "cell_type": "code",
   "execution_count": 25,
   "metadata": {},
   "outputs": [
    {
     "name": "stdout",
     "output_type": "stream",
     "text": [
      "Sensor count:  0\n",
      "Msg count:  200\n",
      "State count:  0\n"
     ]
    }
   ],
   "source": [
    "sensor_data_arr = []\n",
    "msg_sent_arr = []\n",
    "state_change_arr = []\n",
    "\n",
    "sensor_count = 0\n",
    "msg_count = 0\n",
    "state_count = 0\n",
    "\n",
    "index = 0\n",
    "while True:\n",
    "    if index >= len(buff): break\n",
    "\n",
    "    if(buff[index] == SENSOR_READING):\n",
    "        sensor_count += 1\n",
    "        time = int.from_bytes(buff[index + 1 : index + 5], byteorder='big', signed=True) \n",
    "\n",
    "        t_t1 = int.from_bytes(buff[index + 5 : index + 7], byteorder='big', signed=True) \n",
    "        t_t2 = int.from_bytes(buff[index + 7 : index + 9], byteorder='big', signed=True)\n",
    "\n",
    "        c_t1 = int.from_bytes(buff[index + 9 : index + 11], byteorder='big', signed=True)\n",
    "        c_t2 = int.from_bytes(buff[index + 11 : index + 13], byteorder='big', signed=True)\n",
    "        c_t3 = int.from_bytes(buff[index + 13 : index + 15], byteorder='big', signed=True)\n",
    "\n",
    "        t_p1 = int.from_bytes(buff[index + 15 : index + 17], byteorder='big', signed=True)\n",
    "        t_p2 = int.from_bytes(buff[index + 17 : index + 19], byteorder='big', signed=True)\n",
    "\n",
    "        t_p = int.from_bytes(buff[index + 19 : index + 21], byteorder='big', signed=True)\n",
    "        t_l = int.from_bytes(buff[index + 21 : index + 23], byteorder='big', signed=True)\n",
    "\n",
    "        tactile = int.from_bytes(buff[index + 23 : index + 24], byteorder='big', signed=True)\n",
    "\n",
    "        sensor_data_arr.append(rocket_sensor_data_log(time, t_t1, t_t2, c_t1, c_t2, c_t3, t_p1, t_p2, t_p, t_l, tactile))\n",
    "        index += 24\n",
    "\n",
    "    elif(buff[index] == MSG_RECEIVED):\n",
    "        msg_count += 1\n",
    "        time = int.from_bytes(buff[index + 1 : index + 5], byteorder='big', signed=True) \n",
    "        cmd = int.from_bytes(buff[index + 5 : index + 6], byteorder='big', signed=True) \n",
    "        id = int.from_bytes(buff[index + 6 : index + 7], byteorder='big', signed=True) \n",
    "        size = int.from_bytes(buff[index + 7 : index + 8], byteorder='big', signed=True) \n",
    "        \n",
    "        data = []\n",
    "        for i in range(size):\n",
    "            data.append(int.from_bytes(buff[index + 8 + i : index + 9 + i], byteorder='big', signed=False))\n",
    "        \n",
    "        msg_sent_arr.append(msg_sent_log(time, cmd, id, size, data))\n",
    "        #print(index, time, cmd, id, size)\n",
    "        index += 8 + size\n",
    "\n",
    "    elif(buff[index] == STATE_CHANGE):\n",
    "        state_count += 1\n",
    "        time = int.from_bytes(buff[index + 1 : index + 5], byteorder='big', signed=True) \n",
    "        state = int.from_bytes(buff[index + 5 : index + 6], byteorder='big', signed=False) \n",
    "\n",
    "        state_change_arr.append(state_change_log(time, state))\n",
    "\n",
    "        index += 6\n",
    "\n",
    "    else:\n",
    "        index += 1\n",
    "\n",
    "print(\"Sensor count: \", sensor_count)\n",
    "print(\"Msg count: \", msg_count)\n",
    "print(\"State count: \", state_count)"
   ]
  },
  {
   "cell_type": "code",
   "execution_count": 20,
   "metadata": {},
   "outputs": [
    {
     "data": {
      "image/png": "[encoded data removed]",
      "text/plain": [
       "<Figure size 640x480 with 1 Axes>"
      ]
     },
     "metadata": {},
     "output_type": "display_data"
    }
   ],
   "source": [
    "#make plots\n",
    "\n",
    "fig, ax = plt.subplots()\n",
    "\n",
    "#plot tank temperatures\n",
    "x = [log.time for log in sensor_data_arr]\n",
    "ax.plot(x, [log.t_t1  for log in sensor_data_arr])\n",
    "ax.plot(x, [log.t_t2 for log in sensor_data_arr])\n",
    "ax.plot(x, [log.c_t1 for log in sensor_data_arr])\n",
    "ax.plot(x, [log.c_t2 for log in sensor_data_arr])\n",
    "ax.plot(x, [log.c_t3 for log in sensor_data_arr])\n",
    "\n",
    "ax.vlines([log.time for log in state_change_arr], 200, 1000, colors='y')\n",
    "#ax.vlines([log.time for log in msg_sent_arr], 0, 1000, colors='g')\n",
    "plt.show()"
   ]
  },
  {
   "cell_type": "code",
   "execution_count": 26,
   "metadata": {},
   "outputs": [
    {
     "name": "stdout",
     "output_type": "stream",
     "text": [
      "[3220, 4221, 5222, 6223, 7224, 8225, 9225, 10226, 11227, 11549, 11600, 11651, 11702, 11753, 11804, 11855, 11906, 11957, 12008, 12059, 12110, 12161, 12212, 12263, 12313, 12365, 12416, 12467, 12518, 12569, 12620, 12671, 12722, 12773, 12824, 12875, 12926, 12977, 13028, 13079, 13130, 13181, 13232, 13283, 13334, 13385, 13436, 13487, 13538, 13589, 13640, 13691, 13742, 13793, 13844, 13895, 13946, 13997, 14048, 14099, 14150, 14201, 14252, 14303, 14354, 14405, 14456, 14507, 14558, 14609, 14660, 14711, 14762, 14813, 14864, 14915, 14966, 15017, 15068, 15119, 15170, 15221, 15272, 15323, 15374, 15425, 15476, 15527, 15577, 15629, 15680, 15731, 15782, 15833, 15884, 15935, 15986, 16037, 16088, 16139, 16190, 16240, 16292, 16343, 16394, 16445, 16496, 16547, 16598, 16649, 16699, 16751, 16802, 16853, 16904, 16955, 17006, 17057, 17108, 17159, 17210, 17261, 17312, 17363, 17415, 17464, 17516, 17567, 17618, 17669, 17720, 17771, 17822, 17873, 17924, 17975, 18026, 18077, 18128, 18179, 18230, 18281, 18332, 18383, 18434, 18485, 18535, 18587, 18638, 18689, 18740, 18791, 18842, 18893, 18944, 18995, 19046, 19097, 19148, 19199, 19250, 19300, 19352, 19403, 19454, 19505, 19556, 19607, 19658, 19709, 19760, 19811, 19862, 19913, 19964, 20015, 20066, 20117, 20168, 20219, 20270, 20321, 20372, 20423, 20474, 20525, 20576, 20627, 20678, 20729, 21744, 22745, 23746, 24747, 25748, 26749, 27750, 28751]\n"
     ]
    },
    {
     "data": {
      "image/png": "[encoded data removed]",
      "text/plain": [
       "<Figure size 640x480 with 1 Axes>"
      ]
     },
     "metadata": {},
     "output_type": "display_data"
    }
   ],
   "source": [
    "#make plots\n",
    "\n",
    "fig, ax = plt.subplots()\n",
    "\n",
    "#plot tank temperatures\n",
    "x = [log.time for log in msg_sent_arr if log.cmd == 0]\n",
    "y1 = [int.from_bytes(log.data[1 : 3], byteorder='big', signed=True) for log in msg_sent_arr if log.cmd == 0]\n",
    "y2 = [int.from_bytes(log.data[3 : 5], byteorder='big', signed=True) for log in msg_sent_arr if log.cmd == 0]\n",
    "\n",
    "print(x)\n",
    "\n",
    "ax.plot(x, y1)\n",
    "ax.plot(x, y2)\n",
    "\n",
    "plt.show()"
   ]
  },
  {
   "cell_type": "markdown",
   "metadata": {},
   "source": []
  }
 ],
 "metadata": {
  "kernelspec": {
   "display_name": "Python 3",
   "language": "python",
   "name": "python3"
  },
  "language_info": {
   "codemirror_mode": {
    "name": "ipython",
    "version": 3
   },
   "file_extension": ".py",
   "mimetype": "text/x-python",
   "name": "python",
   "nbconvert_exporter": "python",
   "pygments_lexer": "ipython3",
   "version": "3.11.8"
  }
 },
 "nbformat": 4,
 "nbformat_minor": 2
}
