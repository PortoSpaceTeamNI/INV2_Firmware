{
 "cells": [
  {
   "cell_type": "code",
   "execution_count": 15,
   "metadata": {},
   "outputs": [],
   "source": [
    "import glob\n",
    "import os\n",
    "import sys\n",
    "from matplotlib import pyplot as plt\n"
   ]
  },
  {
   "cell_type": "code",
   "execution_count": 2,
   "metadata": {},
   "outputs": [],
   "source": [
    "class rocket_sensor_data_log:\n",
    "    def __init__(self, time, t_t1, t_t2, c_t1, c_t2, c_t3, t_p1, t_p2, t_p, t_l, t1):\n",
    "        self.time = time\n",
    "\n",
    "        self.t_t1 = t_t1\n",
    "        self.t_t2 = t_t2\n",
    "\n",
    "        self.c_t1 = c_t1\n",
    "        self.c_t2 = c_t2\n",
    "        self.c_t3 = c_t3\n",
    "\n",
    "        self.t_p1 = t_p1\n",
    "        self.t_p2 = t_p2\n",
    "\n",
    "        self.t_p = t_p\n",
    "\n",
    "        self.t_l = t_l\n",
    "\n",
    "        self.t1 = t1\n",
    "\n",
    "sensor_data_arr = []"
   ]
  },
  {
   "cell_type": "code",
   "execution_count": 3,
   "metadata": {},
   "outputs": [],
   "source": [
    "class msg_sent_log:\n",
    "    def __init__(self, time, cmd, id, size, data):\n",
    "        self.time = time\n",
    "        self.cmd = cmd\n",
    "        self.id = id\n",
    "        self.size = size\n",
    "        \n",
    "        self.data = []\n",
    "        for i in data: self.data.append(i)\n",
    "\n",
    "msg_sent_arr = []"
   ]
  },
  {
   "cell_type": "code",
   "execution_count": 4,
   "metadata": {},
   "outputs": [],
   "source": [
    "class state_change_log:\n",
    "    def __init__(self, time, state):\n",
    "        self.time = time\n",
    "        self.state = state\n",
    "\n",
    "state_change_arr = []"
   ]
  },
  {
   "cell_type": "code",
   "execution_count": 5,
   "metadata": {},
   "outputs": [],
   "source": [
    "SENSOR_READING = 0\n",
    "MSG_RECEIVED = 1\n",
    "MSG_SENT = 2\n",
    "SYSTEM_ERROR = 3\n",
    "STATE_CHANGE = 4\n",
    "EVENT_REACTION = 5"
   ]
  },
  {
   "cell_type": "code",
   "execution_count": 19,
   "metadata": {},
   "outputs": [],
   "source": [
    "buff = []\n",
    "list_of_files = glob.glob('*.bin') # * means all if need specific format then *.csv\n",
    "file = max(list_of_files, key=os.path.getctime) # get the latest file\n",
    "#file = 'log.bin' # get specific file\n",
    "with open(file, 'rb') as f:\n",
    "    buff.append(f.read())\n",
    "buff = buff[0]\n",
    "\n",
    "#print(buff)\n",
    "#for x in buff: print(hex(x))"
   ]
  },
  {
   "cell_type": "code",
   "execution_count": 22,
   "metadata": {},
   "outputs": [
    {
     "name": "stdout",
     "output_type": "stream",
     "text": [
      "Sensor count:  0\n",
      "Msg count:  37\n",
      "State count:  0\n"
     ]
    }
   ],
   "source": [
    "sensor_data_arr = []\n",
    "msg_sent_arr = []\n",
    "state_change_arr = []\n",
    "\n",
    "sensor_count = 0\n",
    "msg_count = 0\n",
    "state_count = 0\n",
    "\n",
    "index = 0\n",
    "while True:\n",
    "    if index >= len(buff): break\n",
    "\n",
    "    if(buff[index] == SENSOR_READING):\n",
    "        sensor_count += 1\n",
    "        time = int.from_bytes(buff[index + 1 : index + 5], byteorder='big', signed=True) \n",
    "\n",
    "        t_t1 = int.from_bytes(buff[index + 5 : index + 7], byteorder='big', signed=True) \n",
    "        t_t2 = int.from_bytes(buff[index + 7 : index + 9], byteorder='big', signed=True)\n",
    "\n",
    "        c_t1 = int.from_bytes(buff[index + 9 : index + 11], byteorder='big', signed=True)\n",
    "        c_t2 = int.from_bytes(buff[index + 11 : index + 13], byteorder='big', signed=True)\n",
    "        c_t3 = int.from_bytes(buff[index + 13 : index + 15], byteorder='big', signed=True)\n",
    "\n",
    "        t_p1 = int.from_bytes(buff[index + 15 : index + 17], byteorder='big', signed=True)\n",
    "        t_p2 = int.from_bytes(buff[index + 17 : index + 19], byteorder='big', signed=True)\n",
    "\n",
    "        t_p = int.from_bytes(buff[index + 19 : index + 21], byteorder='big', signed=True)\n",
    "        t_l = int.from_bytes(buff[index + 21 : index + 23], byteorder='big', signed=True)\n",
    "\n",
    "        tactile = int.from_bytes(buff[index + 23 : index + 24], byteorder='big', signed=True)\n",
    "\n",
    "        sensor_data_arr.append(rocket_sensor_data_log(time, t_t1, t_t2, c_t1, c_t2, c_t3, t_p1, t_p2, t_p, t_l, tactile))\n",
    "        index += 24\n",
    "\n",
    "    elif(buff[index] == MSG_RECEIVED):\n",
    "        msg_count += 1\n",
    "        time = int.from_bytes(buff[index + 1 : index + 5], byteorder='big', signed=True) \n",
    "        cmd = int.from_bytes(buff[index + 5 : index + 6], byteorder='big', signed=True) \n",
    "        id = int.from_bytes(buff[index + 6 : index + 7], byteorder='big', signed=True) \n",
    "        size = int.from_bytes(buff[index + 7 : index + 8], byteorder='big', signed=True) \n",
    "        \n",
    "        data = []\n",
    "        for i in range(size):\n",
    "            data.append(int.from_bytes(buff[index + 8 + i : index + 9 + i], byteorder='big', signed=False))\n",
    "        \n",
    "        msg_sent_arr.append(msg_sent_log(time, cmd, id, size, data))\n",
    "        #print(index, time, cmd, id, size)\n",
    "        index += 8 + size\n",
    "\n",
    "    elif(buff[index] == STATE_CHANGE):\n",
    "        state_count += 1\n",
    "        time = int.from_bytes(buff[index + 1 : index + 5], byteorder='big', signed=True) \n",
    "        state = int.from_bytes(buff[index + 5 : index + 6], byteorder='big', signed=False) \n",
    "\n",
    "        state_change_arr.append(state_change_log(time, state))\n",
    "\n",
    "        index += 6\n",
    "\n",
    "    else:\n",
    "        index += 1\n",
    "\n",
    "print(\"Sensor count: \", sensor_count)\n",
    "print(\"Msg count: \", msg_count)\n",
    "print(\"State count: \", state_count)"
   ]
  },
  {
   "cell_type": "code",
   "execution_count": 20,
   "metadata": {},
   "outputs": [
    {
     "data": {
      "image/png": "[encoded data removed]",
      "text/plain": [
       "<Figure size 640x480 with 1 Axes>"
      ]
     },
     "metadata": {},
     "output_type": "display_data"
    }
   ],
   "source": [
    "#make plots\n",
    "\n",
    "fig, ax = plt.subplots()\n",
    "\n",
    "#plot tank temperatures\n",
    "x = [log.time for log in sensor_data_arr]\n",
    "ax.plot(x, [log.t_t1  for log in sensor_data_arr])\n",
    "ax.plot(x, [log.t_t2 for log in sensor_data_arr])\n",
    "ax.plot(x, [log.c_t1 for log in sensor_data_arr])\n",
    "ax.plot(x, [log.c_t2 for log in sensor_data_arr])\n",
    "ax.plot(x, [log.c_t3 for log in sensor_data_arr])\n",
    "\n",
    "ax.vlines([log.time for log in state_change_arr], 200, 1000, colors='y')\n",
    "#ax.vlines([log.time for log in msg_sent_arr], 0, 1000, colors='g')\n",
    "plt.show()"
   ]
  },
  {
   "cell_type": "code",
   "execution_count": 23,
   "metadata": {},
   "outputs": [
    {
     "name": "stdout",
     "output_type": "stream",
     "text": [
      "[1582, 1633, 1684, 1735, 1785, 1836, 1888, 1938, 1990, 2041, 2092, 2143, 2194, 2245, 2295, 2346, 2397, 2449, 2500, 2551, 2602, 2653, 2703, 2755, 2805, 2857, 2917, 2967, 3035, 3085, 3137, 3187, 3239, 3290, 3341, 3392, 3443]\n"
     ]
    },
    {
     "data": {
      "image/png": "[encoded data removed]",
      "text/plain": [
       "<Figure size 640x480 with 1 Axes>"
      ]
     },
     "metadata": {},
     "output_type": "display_data"
    }
   ],
   "source": [
    "#make plots\n",
    "\n",
    "fig, ax = plt.subplots()\n",
    "\n",
    "#plot tank temperatures\n",
    "x = [log.time for log in msg_sent_arr if log.cmd == 0]\n",
    "y1 = [int.from_bytes(log.data[1 : 3], byteorder='big', signed=True) for log in msg_sent_arr if log.cmd == 0]\n",
    "y2 = [int.from_bytes(log.data[3 : 5], byteorder='big', signed=True) for log in msg_sent_arr if log.cmd == 0]\n",
    "\n",
    "print(x)\n",
    "\n",
    "ax.plot(x, y1)\n",
    "ax.plot(x, y2)\n",
    "\n",
    "plt.show()"
   ]
  },
  {
   "cell_type": "markdown",
   "metadata": {},
   "source": []
  }
 ],
 "metadata": {
  "kernelspec": {
   "display_name": "Python 3",
   "language": "python",
   "name": "python3"
  },
  "language_info": {
   "codemirror_mode": {
    "name": "ipython",
    "version": 3
   },
   "file_extension": ".py",
   "mimetype": "text/x-python",
   "name": "python",
   "nbconvert_exporter": "python",
   "pygments_lexer": "ipython3",
   "version": "3.11.8"
  }
 },
 "nbformat": 4,
 "nbformat_minor": 2
}
